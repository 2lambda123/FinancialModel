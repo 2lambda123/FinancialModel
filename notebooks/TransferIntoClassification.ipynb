{
 "cells": [
  {
   "cell_type": "markdown",
   "metadata": {},
   "source": [
    "# In this notebook we try to transfer the problem into a classification one, using the features we gathered in the regression version"
   ]
  },
  {
   "cell_type": "code",
   "execution_count": 1,
   "metadata": {},
   "outputs": [],
   "source": [
    "from datetime import datetime, timedelta\n",
    "import pandas as pd\n",
    "import numpy as np\n",
    "from sklearn.preprocessing import MinMaxScaler"
   ]
  },
  {
   "cell_type": "code",
   "execution_count": 33,
   "metadata": {},
   "outputs": [],
   "source": [
    "def get_featured_frame(file_path):\n",
    "    df = pd.read_csv(file_path)\n",
    "    DAY_VALUES = 1\n",
    "    MONTH_VALUES = 30\n",
    "    WEEK_VALUES = DAY_VALUES*7\n",
    "    YEAR_VALUES = DAY_VALUES*365\n",
    "    df['Time'] = pd.to_datetime(df.Time)\n",
    "    df = df.set_index('Time')\n",
    "    df = df.resample('D', convention='start').mean()\n",
    "    df['date'] = df.index.values\n",
    "    df['Avg'] =(df['Low'] + df['High'])/2\n",
    "    # time features\n",
    "    df['year'] = df['date'].apply(lambda x: x.year)\n",
    "    df['month'] = df['date'].apply(lambda x: x.month)\n",
    "    df['day'] = df['date'].apply(lambda x: x.day)\n",
    "    df['hour'] = df['date'].apply(lambda x: x.hour)\n",
    "    df['minute'] = df['date'].apply(lambda x: x.minute)\n",
    "    # Lagged Values\n",
    "    for unit, amount, shift_values in zip(['day', 'day', 'day', 'day', 'week', 'week', 'week', 'month', 'month', 'month', 'year'],[1,2,3,4,1,2,3,1,2,1],[DAY_VALUES, DAY_VALUES, DAY_VALUES, DAY_VALUES, WEEK_VALUES, WEEK_VALUES, WEEK_VALUES, MONTH_VALUES, MONTH_VALUES, YEAR_VALUES]):\n",
    "        for col in ['Open', 'Close', 'High', 'Low', 'Volume', 'Avg']:\n",
    "            new_col = \"{}_{}{}_before\".format(col, amount, unit)\n",
    "            df[new_col] = df[col].shift(amount*shift_values)\n",
    "    # Summary of values\n",
    "    for unit, amount, win_size in zip(['day', 'day', 'week', 'week','month', 'month', 'month'],[1,1,1,1,1,1,1],[2,5,2,3,1,2,3]):\n",
    "        for col in ['Open', 'Close', 'High', 'Low', 'Volume']:\n",
    "            roll_col = \"{}_av_{}{}_before_{}roll\".format(col, amount, unit, win_size)\n",
    "            shifted = \"{}_{}{}_before\".format(col, amount, unit)\n",
    "            df[roll_col] = (df[shifted].rolling(window=win_size)).mean()\n",
    "    # some stat of the values\n",
    "    for col in ['Open', 'Close', 'High', 'Low']:\n",
    "        window = df[col].expanding()\n",
    "        df[\"{}_max\".format(col)] = window.max()\n",
    "        df[\"{}_min\".format(col)] = window.min()\n",
    "        df[\"{}_avg\".format(col)] = window.mean()\n",
    "    df = df.drop(\"date\", axis=1)\n",
    "    # create the prediction column\n",
    "    df['next_rate'] = np.where(df['Avg'].shift(-1) > df['Avg'],1,-1)\n",
    "    df = df.dropna()\n",
    "    # sclae the values\n",
    "    scaler = MinMaxScaler()\n",
    "    df[df.columns] = scaler.fit_transform(df[df.columns])\n",
    "    print(df.info())\n",
    "    return df"
   ]
  },
  {
   "cell_type": "code",
   "execution_count": 35,
   "metadata": {
    "scrolled": true
   },
   "outputs": [
    {
     "name": "stdout",
     "output_type": "stream",
     "text": [
      "<class 'pandas.core.frame.DataFrame'>\n",
      "DatetimeIndex: 2190 entries, 2011-01-03 to 2016-12-31\n",
      "Freq: D\n",
      "Columns: 113 entries, Open to next_rate\n",
      "dtypes: float64(113)\n",
      "memory usage: 1.9 MB\n",
      "None\n",
      "CPU times: user 492 ms, sys: 12 ms, total: 504 ms\n",
      "Wall time: 501 ms\n"
     ]
    }
   ],
   "source": [
    "%%time\n",
    "df = get_featured_frame(\"EURUSD_15m_BID_01.01.2010-31.12.2016.csv\")"
   ]
  },
  {
   "cell_type": "code",
   "execution_count": 36,
   "metadata": {},
   "outputs": [
    {
     "data": {
      "text/html": [
       "<div>\n",
       "<style scoped>\n",
       "    .dataframe tbody tr th:only-of-type {\n",
       "        vertical-align: middle;\n",
       "    }\n",
       "\n",
       "    .dataframe tbody tr th {\n",
       "        vertical-align: top;\n",
       "    }\n",
       "\n",
       "    .dataframe thead th {\n",
       "        text-align: right;\n",
       "    }\n",
       "</style>\n",
       "<table border=\"1\" class=\"dataframe\">\n",
       "  <thead>\n",
       "    <tr style=\"text-align: right;\">\n",
       "      <th></th>\n",
       "      <th>Open</th>\n",
       "      <th>High</th>\n",
       "      <th>Low</th>\n",
       "      <th>Close</th>\n",
       "      <th>Volume</th>\n",
       "      <th>Avg</th>\n",
       "      <th>year</th>\n",
       "      <th>month</th>\n",
       "      <th>day</th>\n",
       "      <th>hour</th>\n",
       "      <th>...</th>\n",
       "      <th>Close_max</th>\n",
       "      <th>Close_min</th>\n",
       "      <th>Close_avg</th>\n",
       "      <th>High_max</th>\n",
       "      <th>High_min</th>\n",
       "      <th>High_avg</th>\n",
       "      <th>Low_max</th>\n",
       "      <th>Low_min</th>\n",
       "      <th>Low_avg</th>\n",
       "      <th>next_rate</th>\n",
       "    </tr>\n",
       "    <tr>\n",
       "      <th>Time</th>\n",
       "      <th></th>\n",
       "      <th></th>\n",
       "      <th></th>\n",
       "      <th></th>\n",
       "      <th></th>\n",
       "      <th></th>\n",
       "      <th></th>\n",
       "      <th></th>\n",
       "      <th></th>\n",
       "      <th></th>\n",
       "      <th></th>\n",
       "      <th></th>\n",
       "      <th></th>\n",
       "      <th></th>\n",
       "      <th></th>\n",
       "      <th></th>\n",
       "      <th></th>\n",
       "      <th></th>\n",
       "      <th></th>\n",
       "      <th></th>\n",
       "      <th></th>\n",
       "    </tr>\n",
       "  </thead>\n",
       "  <tbody>\n",
       "    <tr>\n",
       "      <th>2011-01-03</th>\n",
       "      <td>0.659563</td>\n",
       "      <td>0.659490</td>\n",
       "      <td>0.659557</td>\n",
       "      <td>0.659548</td>\n",
       "      <td>0.113870</td>\n",
       "      <td>0.659523</td>\n",
       "      <td>0.0</td>\n",
       "      <td>0.0</td>\n",
       "      <td>0.066667</td>\n",
       "      <td>0.0</td>\n",
       "      <td>...</td>\n",
       "      <td>0.0</td>\n",
       "      <td>1.0</td>\n",
       "      <td>0.626630</td>\n",
       "      <td>0.0</td>\n",
       "      <td>1.0</td>\n",
       "      <td>0.627382</td>\n",
       "      <td>0.0</td>\n",
       "      <td>1.0</td>\n",
       "      <td>0.625566</td>\n",
       "      <td>1.0</td>\n",
       "    </tr>\n",
       "    <tr>\n",
       "      <th>2011-01-04</th>\n",
       "      <td>0.663954</td>\n",
       "      <td>0.664138</td>\n",
       "      <td>0.663730</td>\n",
       "      <td>0.663851</td>\n",
       "      <td>0.147426</td>\n",
       "      <td>0.663934</td>\n",
       "      <td>0.0</td>\n",
       "      <td>0.0</td>\n",
       "      <td>0.100000</td>\n",
       "      <td>0.0</td>\n",
       "      <td>...</td>\n",
       "      <td>0.0</td>\n",
       "      <td>1.0</td>\n",
       "      <td>0.626846</td>\n",
       "      <td>0.0</td>\n",
       "      <td>1.0</td>\n",
       "      <td>0.627604</td>\n",
       "      <td>0.0</td>\n",
       "      <td>1.0</td>\n",
       "      <td>0.625780</td>\n",
       "      <td>0.0</td>\n",
       "    </tr>\n",
       "    <tr>\n",
       "      <th>2011-01-05</th>\n",
       "      <td>0.635120</td>\n",
       "      <td>0.635156</td>\n",
       "      <td>0.634780</td>\n",
       "      <td>0.634727</td>\n",
       "      <td>0.138942</td>\n",
       "      <td>0.634968</td>\n",
       "      <td>0.0</td>\n",
       "      <td>0.0</td>\n",
       "      <td>0.133333</td>\n",
       "      <td>0.0</td>\n",
       "      <td>...</td>\n",
       "      <td>0.0</td>\n",
       "      <td>1.0</td>\n",
       "      <td>0.626687</td>\n",
       "      <td>0.0</td>\n",
       "      <td>1.0</td>\n",
       "      <td>0.627453</td>\n",
       "      <td>0.0</td>\n",
       "      <td>1.0</td>\n",
       "      <td>0.625620</td>\n",
       "      <td>0.0</td>\n",
       "    </tr>\n",
       "    <tr>\n",
       "      <th>2011-01-06</th>\n",
       "      <td>0.605992</td>\n",
       "      <td>0.605905</td>\n",
       "      <td>0.605549</td>\n",
       "      <td>0.605563</td>\n",
       "      <td>0.126467</td>\n",
       "      <td>0.605727</td>\n",
       "      <td>0.0</td>\n",
       "      <td>0.0</td>\n",
       "      <td>0.166667</td>\n",
       "      <td>0.0</td>\n",
       "      <td>...</td>\n",
       "      <td>0.0</td>\n",
       "      <td>1.0</td>\n",
       "      <td>0.626155</td>\n",
       "      <td>0.0</td>\n",
       "      <td>1.0</td>\n",
       "      <td>0.626928</td>\n",
       "      <td>0.0</td>\n",
       "      <td>1.0</td>\n",
       "      <td>0.625086</td>\n",
       "      <td>0.0</td>\n",
       "    </tr>\n",
       "    <tr>\n",
       "      <th>2011-01-07</th>\n",
       "      <td>0.578792</td>\n",
       "      <td>0.579032</td>\n",
       "      <td>0.578433</td>\n",
       "      <td>0.578604</td>\n",
       "      <td>0.122968</td>\n",
       "      <td>0.578733</td>\n",
       "      <td>0.0</td>\n",
       "      <td>0.0</td>\n",
       "      <td>0.200000</td>\n",
       "      <td>0.0</td>\n",
       "      <td>...</td>\n",
       "      <td>0.0</td>\n",
       "      <td>1.0</td>\n",
       "      <td>0.625281</td>\n",
       "      <td>0.0</td>\n",
       "      <td>1.0</td>\n",
       "      <td>0.626063</td>\n",
       "      <td>0.0</td>\n",
       "      <td>1.0</td>\n",
       "      <td>0.624209</td>\n",
       "      <td>0.0</td>\n",
       "    </tr>\n",
       "  </tbody>\n",
       "</table>\n",
       "<p>5 rows × 113 columns</p>\n",
       "</div>"
      ],
      "text/plain": [
       "                Open      High       Low     Close    Volume       Avg  year  \\\n",
       "Time                                                                           \n",
       "2011-01-03  0.659563  0.659490  0.659557  0.659548  0.113870  0.659523   0.0   \n",
       "2011-01-04  0.663954  0.664138  0.663730  0.663851  0.147426  0.663934   0.0   \n",
       "2011-01-05  0.635120  0.635156  0.634780  0.634727  0.138942  0.634968   0.0   \n",
       "2011-01-06  0.605992  0.605905  0.605549  0.605563  0.126467  0.605727   0.0   \n",
       "2011-01-07  0.578792  0.579032  0.578433  0.578604  0.122968  0.578733   0.0   \n",
       "\n",
       "            month       day  hour    ...      Close_max  Close_min  Close_avg  \\\n",
       "Time                                 ...                                        \n",
       "2011-01-03    0.0  0.066667   0.0    ...            0.0        1.0   0.626630   \n",
       "2011-01-04    0.0  0.100000   0.0    ...            0.0        1.0   0.626846   \n",
       "2011-01-05    0.0  0.133333   0.0    ...            0.0        1.0   0.626687   \n",
       "2011-01-06    0.0  0.166667   0.0    ...            0.0        1.0   0.626155   \n",
       "2011-01-07    0.0  0.200000   0.0    ...            0.0        1.0   0.625281   \n",
       "\n",
       "            High_max  High_min  High_avg  Low_max  Low_min   Low_avg  \\\n",
       "Time                                                                   \n",
       "2011-01-03       0.0       1.0  0.627382      0.0      1.0  0.625566   \n",
       "2011-01-04       0.0       1.0  0.627604      0.0      1.0  0.625780   \n",
       "2011-01-05       0.0       1.0  0.627453      0.0      1.0  0.625620   \n",
       "2011-01-06       0.0       1.0  0.626928      0.0      1.0  0.625086   \n",
       "2011-01-07       0.0       1.0  0.626063      0.0      1.0  0.624209   \n",
       "\n",
       "            next_rate  \n",
       "Time                   \n",
       "2011-01-03        1.0  \n",
       "2011-01-04        0.0  \n",
       "2011-01-05        0.0  \n",
       "2011-01-06        0.0  \n",
       "2011-01-07        0.0  \n",
       "\n",
       "[5 rows x 113 columns]"
      ]
     },
     "execution_count": 36,
     "metadata": {},
     "output_type": "execute_result"
    }
   ],
   "source": [
    "df.head()"
   ]
  },
  {
   "cell_type": "markdown",
   "metadata": {},
   "source": [
    "# Now into classification itself"
   ]
  },
  {
   "cell_type": "code",
   "execution_count": 7,
   "metadata": {},
   "outputs": [],
   "source": [
    "from sklearn.model_selection import train_test_split\n",
    "from sklearn.svm import SVC, LinearSVC\n",
    "from sklearn.metrics import classification_report\n",
    "from sklearn.linear_model import SGDClassifier"
   ]
  },
  {
   "cell_type": "code",
   "execution_count": 37,
   "metadata": {},
   "outputs": [
    {
     "data": {
      "text/plain": [
       "0.0    1119\n",
       "1.0    1071\n",
       "Name: next_rate, dtype: int64"
      ]
     },
     "execution_count": 37,
     "metadata": {},
     "output_type": "execute_result"
    }
   ],
   "source": [
    "df.next_rate.value_counts()"
   ]
  },
  {
   "cell_type": "code",
   "execution_count": 38,
   "metadata": {},
   "outputs": [],
   "source": [
    "x_train, x_test, y_train, y_test = train_test_split(df.drop('next_rate', 1), df['next_rate'], test_size=.2)"
   ]
  },
  {
   "cell_type": "markdown",
   "metadata": {},
   "source": [
    "# A linear SVC takes 2min 11s and F1 score - 60% "
   ]
  },
  {
   "cell_type": "code",
   "execution_count": 39,
   "metadata": {},
   "outputs": [
    {
     "name": "stdout",
     "output_type": "stream",
     "text": [
      "             precision    recall  f1-score   support\n",
      "\n",
      "        0.0       0.63      0.60      0.61       230\n",
      "        1.0       0.58      0.61      0.59       208\n",
      "\n",
      "avg / total       0.60      0.60      0.60       438\n",
      "\n",
      "CPU times: user 460 ms, sys: 24 ms, total: 484 ms\n",
      "Wall time: 473 ms\n"
     ]
    }
   ],
   "source": [
    "%%time\n",
    "# let the training begins\n",
    "clf = LinearSVC()\n",
    "clf.fit(x_train, y_train)\n",
    "y_pred = clf.predict(x_test)\n",
    "print(classification_report(y_test, y_pred))"
   ]
  },
  {
   "cell_type": "markdown",
   "metadata": {},
   "source": [
    "# Trainig a SGD Classifier best case ~ 5.07s - 59% f1\n",
    "\n",
    "* 100k iterations takes ~ 50.8s >> f1 = 60%\n",
    "* 10k iterations takes ~ 5.07s  >> f1 = 59% `best option`\n",
    "* 1k iteration takes ~ 504ms    >> f1 = 54%"
   ]
  },
  {
   "cell_type": "code",
   "execution_count": 45,
   "metadata": {},
   "outputs": [
    {
     "name": "stdout",
     "output_type": "stream",
     "text": [
      "             precision    recall  f1-score   support\n",
      "\n",
      "        0.0       0.64      0.56      0.60       230\n",
      "        1.0       0.57      0.65      0.61       208\n",
      "\n",
      "avg / total       0.61      0.60      0.60       438\n",
      "\n",
      "CPU times: user 5.04 s, sys: 56 ms, total: 5.1 s\n",
      "Wall time: 5.04 s\n"
     ]
    }
   ],
   "source": [
    "%%time\n",
    "# let the training begins\n",
    "clf = SGDClassifier(n_jobs=-1, max_iter=10000)\n",
    "clf.fit(x_train, y_train)\n",
    "y_pred = clf.predict(x_test)\n",
    "print(classification_report(y_test, y_pred))"
   ]
  },
  {
   "cell_type": "markdown",
   "metadata": {},
   "source": [
    "# Training a random forest best case ~ 490ms - 61% f1\n",
    "\n",
    "* 10 estimator takess ~ 236ms   >> f1 = 56%\n",
    "* 100 estimator takes ~ 490ms   >> f1 = 61% `best option`\n",
    "* 1k  estimator takes ~ 2.89s   >> f1 = 60%"
   ]
  },
  {
   "cell_type": "code",
   "execution_count": 52,
   "metadata": {},
   "outputs": [],
   "source": [
    "from sklearn.ensemble import RandomForestClassifier"
   ]
  },
  {
   "cell_type": "code",
   "execution_count": 51,
   "metadata": {},
   "outputs": [
    {
     "name": "stdout",
     "output_type": "stream",
     "text": [
      "             precision    recall  f1-score   support\n",
      "\n",
      "        0.0       0.61      0.61      0.61       230\n",
      "        1.0       0.57      0.57      0.57       208\n",
      "\n",
      "avg / total       0.59      0.59      0.59       438\n",
      "\n",
      "CPU times: user 1.75 s, sys: 8 ms, total: 1.76 s\n",
      "Wall time: 484 ms\n"
     ]
    }
   ],
   "source": [
    "%%time\n",
    "# let the training begins\n",
    "clf = RandomForestClassifier(n_estimators=100, n_jobs=-1)\n",
    "clf.fit(x_train, y_train)\n",
    "y_pred = clf.predict(x_test)\n",
    "print(classification_report(y_test, y_pred))"
   ]
  },
  {
   "cell_type": "markdown",
   "metadata": {},
   "source": [
    "# Trying Adaboost best case 813ms - 54% f1\n",
    "\n",
    "* 50 estimator takes 813ms  >> f1 = 54%\n",
    "* 100 estimator takes 1.16s >> f1 = 53%"
   ]
  },
  {
   "cell_type": "code",
   "execution_count": 55,
   "metadata": {},
   "outputs": [],
   "source": [
    "from sklearn.ensemble import AdaBoostClassifier"
   ]
  },
  {
   "cell_type": "code",
   "execution_count": 57,
   "metadata": {},
   "outputs": [
    {
     "name": "stdout",
     "output_type": "stream",
     "text": [
      "             precision    recall  f1-score   support\n",
      "\n",
      "        0.0       0.55      0.60      0.57       230\n",
      "        1.0       0.51      0.46      0.48       208\n",
      "\n",
      "avg / total       0.53      0.53      0.53       438\n",
      "\n",
      "CPU times: user 1.6 s, sys: 4 ms, total: 1.61 s\n",
      "Wall time: 1.61 s\n"
     ]
    }
   ],
   "source": [
    "%%time\n",
    "# let the training begins\n",
    "clf = AdaBoostClassifier(n_estimators=100)\n",
    "clf.fit(x_train, y_train)\n",
    "y_pred = clf.predict(x_test)\n",
    "print(classification_report(y_test, y_pred))"
   ]
  },
  {
   "cell_type": "markdown",
   "metadata": {},
   "source": [
    "# so we will go with the random forest model"
   ]
  }
 ],
 "metadata": {
  "kernelspec": {
   "display_name": "Python 3",
   "language": "python",
   "name": "python3"
  },
  "language_info": {
   "codemirror_mode": {
    "name": "ipython",
    "version": 3
   },
   "file_extension": ".py",
   "mimetype": "text/x-python",
   "name": "python",
   "nbconvert_exporter": "python",
   "pygments_lexer": "ipython3",
   "version": "3.6.5"
  }
 },
 "nbformat": 4,
 "nbformat_minor": 2
}
